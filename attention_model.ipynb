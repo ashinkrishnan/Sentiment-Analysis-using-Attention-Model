{
  "nbformat": 4,
  "nbformat_minor": 0,
  "metadata": {
    "colab": {
      "name": "attention model.ipynb",
      "provenance": [],
      "collapsed_sections": [],
      "mount_file_id": "1tVIy7gz-91beqU9ICIHEXONZKKQlo-mH",
      "authorship_tag": "ABX9TyPU4Z8r7so2FZ/al3IOfBLN",
      "include_colab_link": true
    },
    "kernelspec": {
      "name": "python3",
      "display_name": "Python 3"
    },
    "language_info": {
      "name": "python"
    },
    "accelerator": "GPU"
  },
  "cells": [
    {
      "cell_type": "markdown",
      "metadata": {
        "id": "view-in-github",
        "colab_type": "text"
      },
      "source": [
        "<a href=\"https://colab.research.google.com/github/ashinkrishnan/Sentiment-Analysis-using-Attention-Model/blob/main/attention_model.ipynb\" target=\"_parent\"><img src=\"https://colab.research.google.com/assets/colab-badge.svg\" alt=\"Open In Colab\"/></a>"
      ]
    },
    {
      "cell_type": "code",
      "metadata": {
        "colab": {
          "base_uri": "https://localhost:8080/"
        },
        "id": "43DqZ1fCOGxG",
        "outputId": "81dde457-8eac-423e-f479-d48a34f6a991"
      },
      "source": [
        "from google.colab import drive\n",
        "drive.mount('/content/drive')"
      ],
      "execution_count": 4,
      "outputs": [
        {
          "output_type": "stream",
          "text": [
            "Drive already mounted at /content/drive; to attempt to forcibly remount, call drive.mount(\"/content/drive\", force_remount=True).\n"
          ],
          "name": "stdout"
        }
      ]
    },
    {
      "cell_type": "code",
      "metadata": {
        "id": "2SVfJW5qOiBJ"
      },
      "source": [
        "PATH =\"/content/drive/MyDrive/twitter-sentiment/train (1).csv\""
      ],
      "execution_count": 5,
      "outputs": []
    },
    {
      "cell_type": "code",
      "metadata": {
        "colab": {
          "base_uri": "https://localhost:8080/"
        },
        "id": "-v1YxaplOsyw",
        "outputId": "34197812-23eb-4d16-8148-e0f6d33f759e"
      },
      "source": [
        "import pandas as pd\n",
        "import numpy as np\n",
        "\n",
        "import re\n",
        "import nltk\n",
        "nltk.download('stopwords')\n",
        "nltk.download('wordnet')\n",
        "from nltk.stem import WordNetLemmatizer\n",
        "from nltk.corpus import stopwords\n",
        "stop_words = set(stopwords.words(\"english\"))\n",
        "lemmatizer = WordNetLemmatizer()\n",
        "\n",
        "from tensorflow.keras.preprocessing.text import Tokenizer\n",
        "from tensorflow.keras.preprocessing.sequence import pad_sequences\n",
        "\n",
        "\n",
        "\n",
        "df = pd.read_csv(PATH)"
      ],
      "execution_count": 6,
      "outputs": [
        {
          "output_type": "stream",
          "text": [
            "[nltk_data] Downloading package stopwords to /root/nltk_data...\n",
            "[nltk_data]   Package stopwords is already up-to-date!\n",
            "[nltk_data] Downloading package wordnet to /root/nltk_data...\n",
            "[nltk_data]   Package wordnet is already up-to-date!\n"
          ],
          "name": "stdout"
        }
      ]
    },
    {
      "cell_type": "code",
      "metadata": {
        "colab": {
          "base_uri": "https://localhost:8080/",
          "height": 206
        },
        "id": "9rag30TbFb7W",
        "outputId": "8ab3ee37-678c-400c-8a89-e0a419cae987"
      },
      "source": [
        "df.head(5)"
      ],
      "execution_count": 7,
      "outputs": [
        {
          "output_type": "execute_result",
          "data": {
            "text/html": [
              "<div>\n",
              "<style scoped>\n",
              "    .dataframe tbody tr th:only-of-type {\n",
              "        vertical-align: middle;\n",
              "    }\n",
              "\n",
              "    .dataframe tbody tr th {\n",
              "        vertical-align: top;\n",
              "    }\n",
              "\n",
              "    .dataframe thead th {\n",
              "        text-align: right;\n",
              "    }\n",
              "</style>\n",
              "<table border=\"1\" class=\"dataframe\">\n",
              "  <thead>\n",
              "    <tr style=\"text-align: right;\">\n",
              "      <th></th>\n",
              "      <th>id</th>\n",
              "      <th>label</th>\n",
              "      <th>tweet</th>\n",
              "    </tr>\n",
              "  </thead>\n",
              "  <tbody>\n",
              "    <tr>\n",
              "      <th>0</th>\n",
              "      <td>1</td>\n",
              "      <td>0</td>\n",
              "      <td>@user when a father is dysfunctional and is s...</td>\n",
              "    </tr>\n",
              "    <tr>\n",
              "      <th>1</th>\n",
              "      <td>2</td>\n",
              "      <td>0</td>\n",
              "      <td>@user @user thanks for #lyft credit i can't us...</td>\n",
              "    </tr>\n",
              "    <tr>\n",
              "      <th>2</th>\n",
              "      <td>3</td>\n",
              "      <td>0</td>\n",
              "      <td>bihday your majesty</td>\n",
              "    </tr>\n",
              "    <tr>\n",
              "      <th>3</th>\n",
              "      <td>4</td>\n",
              "      <td>0</td>\n",
              "      <td>#model   i love u take with u all the time in ...</td>\n",
              "    </tr>\n",
              "    <tr>\n",
              "      <th>4</th>\n",
              "      <td>5</td>\n",
              "      <td>0</td>\n",
              "      <td>factsguide: society now    #motivation</td>\n",
              "    </tr>\n",
              "  </tbody>\n",
              "</table>\n",
              "</div>"
            ],
            "text/plain": [
              "   id  label                                              tweet\n",
              "0   1      0   @user when a father is dysfunctional and is s...\n",
              "1   2      0  @user @user thanks for #lyft credit i can't us...\n",
              "2   3      0                                bihday your majesty\n",
              "3   4      0  #model   i love u take with u all the time in ...\n",
              "4   5      0             factsguide: society now    #motivation"
            ]
          },
          "metadata": {
            "tags": []
          },
          "execution_count": 7
        }
      ]
    },
    {
      "cell_type": "code",
      "metadata": {
        "colab": {
          "base_uri": "https://localhost:8080/"
        },
        "id": "IWQ80jhDSUWX",
        "outputId": "e46b4562-0c4c-4105-9545-3984c7971e0c"
      },
      "source": [
        "df.label.value_counts()"
      ],
      "execution_count": 8,
      "outputs": [
        {
          "output_type": "execute_result",
          "data": {
            "text/plain": [
              "0    29720\n",
              "1     2242\n",
              "Name: label, dtype: int64"
            ]
          },
          "metadata": {
            "tags": []
          },
          "execution_count": 8
        }
      ]
    },
    {
      "cell_type": "code",
      "metadata": {
        "id": "g5J3KfUvPcMv"
      },
      "source": [
        "#data cleaning function\n",
        "def clean_text(text):\n",
        "    text = re.sub(r'[^w\\w\\s]','',text,re.UNICODE)\n",
        "    text = text.lower()\n",
        "    text = [lemmatizer.lemmatize(token) for token in text.split(\" \")]\n",
        "    text = [lemmatizer.lemmatize(token, \"v\") for token in text]\n",
        "    text = [word for word in text if  not word in stop_words]\n",
        "    text = \" \".join(text)\n",
        "    return text"
      ],
      "execution_count": 9,
      "outputs": []
    },
    {
      "cell_type": "code",
      "metadata": {
        "id": "eR4rClgoPgJm"
      },
      "source": [
        "df['Processed_tweet'] = df.tweet.apply(lambda x: clean_text(x))"
      ],
      "execution_count": 10,
      "outputs": []
    },
    {
      "cell_type": "code",
      "metadata": {
        "colab": {
          "base_uri": "https://localhost:8080/",
          "height": 36
        },
        "id": "xFddLSWtPifH",
        "outputId": "a6637d18-9b9f-4ac8-c234-453eef6fc1a6"
      },
      "source": [
        "df['tweet'][0]"
      ],
      "execution_count": 11,
      "outputs": [
        {
          "output_type": "execute_result",
          "data": {
            "application/vnd.google.colaboratory.intrinsic+json": {
              "type": "string"
            },
            "text/plain": [
              "' @user when a father is dysfunctional and is so selfish he drags his kids into his dysfunction.   #run'"
            ]
          },
          "metadata": {
            "tags": []
          },
          "execution_count": 11
        }
      ]
    },
    {
      "cell_type": "code",
      "metadata": {
        "colab": {
          "base_uri": "https://localhost:8080/",
          "height": 36
        },
        "id": "Esu2f6DNPncG",
        "outputId": "e10de8db-a82c-4e44-fa98-18251a56aa1d"
      },
      "source": [
        "df['Processed_tweet'][0]"
      ],
      "execution_count": 12,
      "outputs": [
        {
          "output_type": "execute_result",
          "data": {
            "application/vnd.google.colaboratory.intrinsic+json": {
              "type": "string"
            },
            "text/plain": [
              "' user father dysfunctional selfish drag kid dysfunction   run'"
            ]
          },
          "metadata": {
            "tags": []
          },
          "execution_count": 12
        }
      ]
    },
    {
      "cell_type": "code",
      "metadata": {
        "colab": {
          "base_uri": "https://localhost:8080/"
        },
        "id": "1SN9Ibn9PoVn",
        "outputId": "440a8cda-e72e-43b0-959b-91cc5ff7f54b"
      },
      "source": [
        "#getting the max length of the sequnce to apply padding\n",
        "df.Processed_tweet.apply(lambda x: len(x.split(\" \"))).max()"
      ],
      "execution_count": 13,
      "outputs": [
        {
          "output_type": "execute_result",
          "data": {
            "text/plain": [
              "39"
            ]
          },
          "metadata": {
            "tags": []
          },
          "execution_count": 13
        }
      ]
    },
    {
      "cell_type": "code",
      "metadata": {
        "id": "k54roVIFPwZP"
      },
      "source": [
        "MAX_FEATURES = 8000\n",
        "EMBED_SIZE = 128\n",
        "tokenizer = Tokenizer(num_words=MAX_FEATURES)\n",
        "tokenizer.fit_on_texts(df['Processed_tweet'])\n",
        "list_tokenized_train = tokenizer.texts_to_sequences(df['Processed_tweet'])"
      ],
      "execution_count": 14,
      "outputs": []
    },
    {
      "cell_type": "code",
      "metadata": {
        "id": "gcdBvPDMPy7-"
      },
      "source": [
        "MAX_LEN = 40 #since the max length of the input \n",
        "X_train = pad_sequences(list_tokenized_train,maxlen =MAX_LEN )\n",
        "y = df['label']\n",
        "y_train = np.asarray(y)"
      ],
      "execution_count": 15,
      "outputs": []
    },
    {
      "cell_type": "code",
      "metadata": {
        "id": "b1k_Hb-UP9QG"
      },
      "source": [
        "# from sklearn.model_selection import train_test_split\n",
        "# X_train, X_test, y_train, y_test = train_test_split(X,y, test_size=0.33, random_state=42)"
      ],
      "execution_count": 16,
      "outputs": []
    },
    {
      "cell_type": "code",
      "metadata": {
        "id": "XxSveprSP_3v"
      },
      "source": [
        "import tensorflow as tf\n",
        "import tensorflow.keras as keras\n",
        "from tensorflow.keras.preprocessing.text import Tokenizer\n",
        "from tensorflow.keras.preprocessing.sequence import pad_sequences\n",
        "from tensorflow.keras.layers import Concatenate, Dense, Input, LSTM, Embedding, Dropout, Activation, GRU, Flatten\n",
        "from tensorflow.keras.layers import Bidirectional, GlobalMaxPool1D\n",
        "from tensorflow.keras.models import Model, Sequential\n",
        "from tensorflow.keras.layers import Convolution1D\n",
        "from tensorflow.keras import initializers, regularizers, constraints, optimizers, layers"
      ],
      "execution_count": 17,
      "outputs": []
    },
    {
      "cell_type": "code",
      "metadata": {
        "id": "d4e9unn2QCt5"
      },
      "source": [
        "#CREATING ATTENTION LAYER"
      ],
      "execution_count": 18,
      "outputs": []
    },
    {
      "cell_type": "code",
      "metadata": {
        "id": "54k4gfL8QLLk"
      },
      "source": [
        "class Attention(tf.keras.Model):\n",
        "    def __init__(self, units):\n",
        "        super(Attention, self).__init__()\n",
        "        self.W1 = tf.keras.layers.Dense(units)\n",
        "        self.W2 = tf.keras.layers.Dense(units)\n",
        "        self.V  = tf.keras.layers.Dense(1)\n",
        "\n",
        "    def call(self, features, hidden):\n",
        "        # hidden shape == (batch_size, hidden size)\n",
        "        # hidden_with_time_axis shape == (batch_size, 1, hidden size)\n",
        "        # we are doing this to perform addition to calculate the score\n",
        "        hidden_with_time_axis = tf.expand_dims(hidden, 1)\n",
        "          \n",
        "        # score shape == (batch_size, max_length, 1)\n",
        "        # we get 1 at the last axis because we are applying score to self.V\n",
        "        # the shape of the tensor before applying self.V is (batch_size, max_length, units)\n",
        "        score = tf.nn.tanh(\n",
        "            self.W1(features) + self.W2(hidden_with_time_axis))\n",
        "        # attention_weights shape == (batch_size, max_length, 1)\n",
        "        attention_weights = tf.nn.softmax(self.V(score), axis=1)\n",
        "          \n",
        "        # context_vector shape after sum == (batch_size, hidden_size)\n",
        "        context_vector = attention_weights * features\n",
        "        context_vector = tf.reduce_sum(context_vector, axis=1)\n",
        "        return context_vector, attention_weights"
      ],
      "execution_count": 19,
      "outputs": []
    },
    {
      "cell_type": "code",
      "metadata": {
        "id": "zIdvHQ9iQN5-"
      },
      "source": [
        "#Embedding Layer using random initialization\n",
        "#To perform this embedding we use the Embedding function from the layers package"
      ],
      "execution_count": 20,
      "outputs": []
    },
    {
      "cell_type": "code",
      "metadata": {
        "id": "tgAkkh-RQPeH"
      },
      "source": [
        "sequence_input = Input(shape=(MAX_LEN,), dtype=\"int32\")\n",
        "embedded_sequences = Embedding(MAX_FEATURES, EMBED_SIZE)(sequence_input)"
      ],
      "execution_count": 21,
      "outputs": []
    },
    {
      "cell_type": "code",
      "metadata": {
        "id": "DiRiSWbyQROp"
      },
      "source": [
        "# Bi-directional RNN for Encoding section\n",
        "RNN_CELL_SIZE = 32\n",
        "lstm = Bidirectional(LSTM(RNN_CELL_SIZE,return_sequences= True),name=\"bi-dir-lstm0\")(embedded_sequences)\n",
        "#Gettig LSTM outputs\n",
        "(lstm, forward_h, forward_c, backward_h, backward_c) = Bidirectional(LSTM(RNN_CELL_SIZE, return_sequences=True, return_state=True), name=\"bi-dir-lstm1\")(lstm)"
      ],
      "execution_count": 22,
      "outputs": []
    },
    {
      "cell_type": "code",
      "metadata": {
        "id": "r6-g4SYLQXmS"
      },
      "source": [
        "#Since our model uses a bi-directional RNN, \n",
        "#we first concatenate the hidden states from each RNN before computing the attention weights and applying the weighted sum"
      ],
      "execution_count": 23,
      "outputs": []
    },
    {
      "cell_type": "code",
      "metadata": {
        "id": "SSzAbkf7Qd8n"
      },
      "source": [
        "state_h = Concatenate()([forward_h, backward_h])\n",
        "state_c = Concatenate()([forward_c, backward_c])\n",
        "context_vector, attention_weights = Attention(10)(lstm, state_h)\n",
        "dense1 = Dense(20, activation=\"relu\")(context_vector)\n",
        "dropout = Dropout(0.05)(dense1)\n",
        "output = Dense(1, activation=\"sigmoid\")(dropout)"
      ],
      "execution_count": 24,
      "outputs": []
    },
    {
      "cell_type": "code",
      "metadata": {
        "id": "inLNrfYlQflF"
      },
      "source": [
        "model = keras.Model(inputs=sequence_input, outputs=output)"
      ],
      "execution_count": 25,
      "outputs": []
    },
    {
      "cell_type": "code",
      "metadata": {
        "colab": {
          "base_uri": "https://localhost:8080/"
        },
        "id": "K01UIh5MQiC3",
        "outputId": "0b39a2d7-f4e7-4662-e914-7389c6cf2f39"
      },
      "source": [
        "print(model.summary())"
      ],
      "execution_count": 26,
      "outputs": [
        {
          "output_type": "stream",
          "text": [
            "Model: \"model\"\n",
            "__________________________________________________________________________________________________\n",
            "Layer (type)                    Output Shape         Param #     Connected to                     \n",
            "==================================================================================================\n",
            "input_1 (InputLayer)            [(None, 40)]         0                                            \n",
            "__________________________________________________________________________________________________\n",
            "embedding (Embedding)           (None, 40, 128)      1024000     input_1[0][0]                    \n",
            "__________________________________________________________________________________________________\n",
            "bi-dir-lstm0 (Bidirectional)    (None, 40, 64)       41216       embedding[0][0]                  \n",
            "__________________________________________________________________________________________________\n",
            "bi-dir-lstm1 (Bidirectional)    [(None, 40, 64), (No 24832       bi-dir-lstm0[0][0]               \n",
            "__________________________________________________________________________________________________\n",
            "concatenate (Concatenate)       (None, 64)           0           bi-dir-lstm1[0][1]               \n",
            "                                                                 bi-dir-lstm1[0][3]               \n",
            "__________________________________________________________________________________________________\n",
            "attention (Attention)           ((None, 64), (None,  1311        bi-dir-lstm1[0][0]               \n",
            "                                                                 concatenate[0][0]                \n",
            "__________________________________________________________________________________________________\n",
            "dense_3 (Dense)                 (None, 20)           1300        attention[0][0]                  \n",
            "__________________________________________________________________________________________________\n",
            "dropout (Dropout)               (None, 20)           0           dense_3[0][0]                    \n",
            "__________________________________________________________________________________________________\n",
            "dense_4 (Dense)                 (None, 1)            21          dropout[0][0]                    \n",
            "==================================================================================================\n",
            "Total params: 1,092,680\n",
            "Trainable params: 1,092,680\n",
            "Non-trainable params: 0\n",
            "__________________________________________________________________________________________________\n",
            "None\n"
          ],
          "name": "stdout"
        }
      ]
    },
    {
      "cell_type": "code",
      "metadata": {
        "id": "VpQBGtinQjPv"
      },
      "source": [
        "#graph of the connected layers using  pydot/graphviz"
      ],
      "execution_count": 27,
      "outputs": []
    },
    {
      "cell_type": "code",
      "metadata": {
        "colab": {
          "base_uri": "https://localhost:8080/",
          "height": 794
        },
        "id": "yxMIp6JtQmCS",
        "outputId": "6f0836a4-93c9-4fdd-8731-e46d7eb3907c"
      },
      "source": [
        "keras.utils.plot_model(model, show_shapes=True, dpi=90)"
      ],
      "execution_count": 28,
      "outputs": [
        {
          "output_type": "execute_result",
          "data": {
            "image/png": "[encoded data removed]",
            "text/plain": [
              "<IPython.core.display.Image object>"
            ]
          },
          "metadata": {
            "tags": []
          },
          "execution_count": 28
        }
      ]
    },
    {
      "cell_type": "code",
      "metadata": {
        "id": "qJoSlVtsQncn"
      },
      "source": [
        "METRICS = [\n",
        "    keras.metrics.TruePositives(name='tp'),\n",
        "    keras.metrics.FalsePositives(name='fp'),\n",
        "    keras.metrics.TrueNegatives(name='tn'),\n",
        "    keras.metrics.FalseNegatives(name='fn'),\n",
        "    keras.metrics.BinaryAccuracy(name='accuracy'),\n",
        "    keras.metrics.Precision(name='precision'),\n",
        "    keras.metrics.Recall(name='recall'),\n",
        "    keras.metrics.AUC(name='auc'),\n",
        "]\n",
        "\n",
        "model.compile(loss='binary_crossentropy',\n",
        "              optimizer='adam',\n",
        "              metrics=METRICS)"
      ],
      "execution_count": 29,
      "outputs": []
    },
    {
      "cell_type": "code",
      "metadata": {
        "colab": {
          "base_uri": "https://localhost:8080/"
        },
        "id": "JsYqW5njQqv_",
        "outputId": "9173f6e5-7e15-4867-fb4d-a747114f34f5"
      },
      "source": [
        "#Training the model\n",
        "BATCH_SIZE = 100\n",
        "EPOCHS = 5\n",
        "history = model.fit(X_train,y_train,\n",
        "                    batch_size=BATCH_SIZE,\n",
        "                    epochs=EPOCHS,\n",
        "                    validation_split=0.2)"
      ],
      "execution_count": 30,
      "outputs": [
        {
          "output_type": "stream",
          "text": [
            "Epoch 1/5\n",
            "256/256 [==============================] - 22s 37ms/step - loss: 0.1929 - tp: 515.0000 - fp: 150.0000 - tn: 23621.0000 - fn: 1283.0000 - accuracy: 0.9440 - precision: 0.7744 - recall: 0.2864 - auc: 0.8402 - val_loss: 0.1238 - val_tp: 270.0000 - val_fp: 94.0000 - val_tn: 5855.0000 - val_fn: 174.0000 - val_accuracy: 0.9581 - val_precision: 0.7418 - val_recall: 0.6081 - val_auc: 0.9524\n",
            "Epoch 2/5\n",
            "256/256 [==============================] - 7s 29ms/step - loss: 0.0856 - tp: 1275.0000 - fp: 222.0000 - tn: 23549.0000 - fn: 523.0000 - accuracy: 0.9709 - precision: 0.8517 - recall: 0.7091 - auc: 0.9695 - val_loss: 0.1235 - val_tp: 226.0000 - val_fp: 31.0000 - val_tn: 5918.0000 - val_fn: 218.0000 - val_accuracy: 0.9611 - val_precision: 0.8794 - val_recall: 0.5090 - val_auc: 0.9468\n",
            "Epoch 3/5\n",
            "256/256 [==============================] - 7s 29ms/step - loss: 0.0585 - tp: 1443.0000 - fp: 151.0000 - tn: 23620.0000 - fn: 355.0000 - accuracy: 0.9802 - precision: 0.9053 - recall: 0.8026 - auc: 0.9851 - val_loss: 0.1216 - val_tp: 236.0000 - val_fp: 36.0000 - val_tn: 5913.0000 - val_fn: 208.0000 - val_accuracy: 0.9618 - val_precision: 0.8676 - val_recall: 0.5315 - val_auc: 0.9372\n",
            "Epoch 4/5\n",
            "256/256 [==============================] - 8s 30ms/step - loss: 0.0407 - tp: 1577.0000 - fp: 114.0000 - tn: 23657.0000 - fn: 221.0000 - accuracy: 0.9869 - precision: 0.9326 - recall: 0.8771 - auc: 0.9915 - val_loss: 0.1434 - val_tp: 277.0000 - val_fp: 106.0000 - val_tn: 5843.0000 - val_fn: 167.0000 - val_accuracy: 0.9573 - val_precision: 0.7232 - val_recall: 0.6239 - val_auc: 0.9187\n",
            "Epoch 5/5\n",
            "256/256 [==============================] - 8s 31ms/step - loss: 0.0303 - tp: 1618.0000 - fp: 90.0000 - tn: 23681.0000 - fn: 180.0000 - accuracy: 0.9894 - precision: 0.9473 - recall: 0.8999 - auc: 0.9948 - val_loss: 0.1678 - val_tp: 274.0000 - val_fp: 100.0000 - val_tn: 5849.0000 - val_fn: 170.0000 - val_accuracy: 0.9578 - val_precision: 0.7326 - val_recall: 0.6171 - val_auc: 0.8977\n"
          ],
          "name": "stdout"
        }
      ]
    },
    {
      "cell_type": "code",
      "metadata": {
        "id": "VwcF6x02QtFw"
      },
      "source": [
        "#evaluating the model using test data"
      ],
      "execution_count": 31,
      "outputs": []
    },
    {
      "cell_type": "code",
      "metadata": {
        "id": "t8m7fOgzChG7"
      },
      "source": [
        "#Loading the test data,and repeating the precessing step\n",
        "df_test = pd.read_csv(\"/content/drive/MyDrive/twitter-sentiment/train.csv\")\n",
        "df_test.head()\n",
        "df_test['tweet'] = df_test.tweet.apply(lambda x: clean_text(x))\n",
        "y_t = df_test['label']\n",
        "\n",
        "y_test = np.asarray(y_t)\n",
        "\n",
        "list_sentences_test = df_test[\"tweet\"]\n",
        "list_tokenized_test = tokenizer.texts_to_sequences(list_sentences_test)\n",
        "X_test = pad_sequences(list_tokenized_test, maxlen=MAX_LEN)\n",
        "\n",
        "## Making predictions on our model\n",
        "prediction = model.predict(X_test)\n",
        "y_pred = (prediction > 0.5)\n",
        "\n",
        "\n"
      ],
      "execution_count": 32,
      "outputs": []
    },
    {
      "cell_type": "code",
      "metadata": {
        "colab": {
          "base_uri": "https://localhost:8080/",
          "height": 513
        },
        "id": "hSGgVa4uCzva",
        "outputId": "2d3d668a-413a-4a25-81f5-d80a1ccd3499"
      },
      "source": [
        "import numpy as np\n",
        "import matplotlib as mpl\n",
        "import matplotlib.pyplot as plt\n",
        "import seaborn as sns\n",
        "from sklearn.metrics import (classification_report,\n",
        "                             confusion_matrix,\n",
        "                             roc_auc_score)\n",
        "%matplotlib inline\n",
        "%config InlineBackend.figure_format = 'retina'\n",
        "  \n",
        "report = classification_report(y_test, y_pred)\n",
        "print(report)\n",
        "  \n",
        "def plot_cm(labels, predictions, p=0.5):\n",
        "    cm = confusion_matrix(labels, predictions)\n",
        "    plt.figure(figsize=(5, 5))\n",
        "    sns.heatmap(cm, annot=True, fmt=\"d\")\n",
        "    plt.title(\"Confusion matrix (non-normalized))\")\n",
        "    plt.ylabel(\"Actual label\")\n",
        "    plt.xlabel(\"Predicted label\")\n",
        "  \n",
        "plot_cm(y_test, y_pred)"
      ],
      "execution_count": 33,
      "outputs": [
        {
          "output_type": "stream",
          "text": [
            "              precision    recall  f1-score   support\n",
            "\n",
            "           0       0.99      1.00      0.99     29720\n",
            "           1       0.94      0.88      0.91      2242\n",
            "\n",
            "    accuracy                           0.99     31962\n",
            "   macro avg       0.96      0.94      0.95     31962\n",
            "weighted avg       0.99      0.99      0.99     31962\n",
            "\n"
          ],
          "name": "stdout"
        },
        {
          "output_type": "display_data",
          "data": {
            "image/png": "[encoded data removed]",
            "text/plain": [
              "<Figure size 360x360 with 2 Axes>"
            ]
          },
          "metadata": {
            "tags": [],
            "image/png": {
              "width": 334,
              "height": 331
            },
            "needs_background": "light"
          }
        }
      ]
    },
    {
      "cell_type": "code",
      "metadata": {
        "id": "0MsL-DiuC3Ky"
      },
      "source": [
        "# # Cross Validation Classification Accuracy\n",
        "  \n",
        "# colors = plt.rcParams[\"axes.prop_cycle\"].by_key()[\"color\"]\n",
        "# mpl.rcParams[\"figure.figsize\"] = (12, 18)\n",
        "  \n",
        "# def plot_metrics(history):\n",
        "#     metrics = [\n",
        "#         \"loss\",\n",
        "#         \"tp\", \"fp\", \"tn\", \"fn\",\n",
        "#         \"accuracy\",\n",
        "#         \"precision\", \"recall\",\n",
        "#         \"auc\",\n",
        "#     ]\n",
        "#     for n, metric in  enumerate(metrics):\n",
        "#         name = metric.replace(\"_\", \" \").capitalize()\n",
        "#         plt.subplot(5, 2, n + 1)\n",
        "#         plt.plot(\n",
        "#             history.epoch,\n",
        "#             history.history[metric],\n",
        "#             color=colors[0],\n",
        "#             label=\"Train\",\n",
        "#         )\n",
        "#         plt.plot(\n",
        "#             history.epoch,\n",
        "#             history.history[\"val_\" + metric],\n",
        "#             color=colors[1],\n",
        "#             linestyle=\"--\",\n",
        "#             label=\"Val\",\n",
        "#         )\n",
        "#         plt.xlabel(\"Epoch\")\n",
        "#         plt.ylabel(name)\n",
        "#         if metric == \"loss\":\n",
        "#             plt.ylim([0, plt.ylim()[1] * 1.2])\n",
        "#         elif metric == \"accuracy\":\n",
        "#             plt.ylim([0.4, 1])\n",
        "#         elif metric == \"fn\":\n",
        "#             plt.ylim([0, plt.ylim()[1]])\n",
        "#         elif metric == \"fp\":\n",
        "#             plt.ylim([0, plt.ylim()[1]])\n",
        "#         elif metric == \"tn\":\n",
        "#             plt.ylim([0, plt.ylim()[1]])\n",
        "#         elif metric == \"tp\":\n",
        "#             plt.ylim([0, plt.ylim()[1]])\n",
        "#         elif metric == \"precision\":\n",
        "#             plt.ylim([0, 1])\n",
        "#         elif metric == \"recall\":\n",
        "#             plt.ylim([0.4, 1])\n",
        "#         else:\n",
        "#             plt.ylim([0, 1])\n",
        "          \n",
        "#         plt.legend()\n",
        "  \n",
        "# plot_metrics(history)"
      ],
      "execution_count": 35,
      "outputs": []
    },
    {
      "cell_type": "code",
      "metadata": {
        "id": "x-aRH9gNOLbq"
      },
      "source": [
        ""
      ],
      "execution_count": null,
      "outputs": []
    }
  ]
}